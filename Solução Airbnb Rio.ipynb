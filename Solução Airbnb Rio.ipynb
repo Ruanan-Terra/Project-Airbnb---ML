{
 "cells": [
  {
   "cell_type": "markdown",
   "metadata": {},
   "source": [
    "# Projeto Airbnb Rio - Ferramenta de Previsão de Preço de Imóvel para pessoas comuns "
   ]
  },
  {
   "cell_type": "markdown",
   "metadata": {},
   "source": [
    "### Contexto\n",
    "\n",
    "No Airbnb, qualquer pessoa que tenha um quarto ou um imóvel de qualquer tipo (apartamento, casa, chalé, pousada, etc.) pode ofertar o seu imóvel para ser alugado por diária.\n",
    "\n",
    "Você cria o seu perfil de host (pessoa que disponibiliza um imóvel para aluguel por diária) e cria o anúncio do seu imóvel.\n",
    "\n",
    "Nesse anúncio, o host deve descrever as características do imóvel da forma mais completa possível, de forma a ajudar os locadores/viajantes a escolherem o melhor imóvel para eles (e de forma a tornar o seu anúncio mais atrativo)\n",
    "\n",
    "Existem dezenas de personalizações possíveis no seu anúncio, desde quantidade mínima de diária, preço, quantidade de quartos, até regras de cancelamento, taxa extra para hóspedes extras, exigência de verificação de identidade do locador, etc.\n",
    "\n",
    "### Nosso objetivo\n",
    "\n",
    "Construir um modelo de previsão de preço que permita uma pessoa comum que possui um imóvel possa saber quanto deve cobrar pela diária do seu imóvel.\n",
    "\n",
    "Ou ainda, para o locador comum, dado o imóvel que ele está buscando, ajudar a saber se aquele imóvel está com preço atrativo (abaixo da média para imóveis com as mesmas características) ou não.\n",
    "\n",
    "### O que temos disponível, inspirações e créditos\n",
    "\n",
    "As bases de dados foram retiradas do site kaggle: https://www.kaggle.com/allanbruno/airbnb-rio-de-janeiro\n",
    "\n",
    "Elas estão disponíveis para download abaixo da aula (se você puxar os dados direto do Kaggle pode ser que encontre resultados diferentes dos meus, afinal as bases de dados podem ter sido atualizadas).\n",
    "\n",
    "Caso queira uma outra solução, podemos olhar como referência a solução do usuário Allan Bruno do kaggle no Notebook: https://www.kaggle.com/allanbruno/helping-regular-people-price-listings-on-airbnb\n",
    "\n",
    "Você vai perceber semelhanças entre a solução que vamos desenvolver aqui e a dele, mas também algumas diferenças significativas no processo de construção do projeto.\n",
    "\n",
    "- As bases de dados são os preços dos imóveis obtidos e suas respectivas características em cada mês.\n",
    "- Os preços são dados em reais (R$)\n",
    "- Temos bases de abril de 2018 a maio de 2020, com exceção de junho de 2018 que não possui base de dados\n",
    "\n",
    "### Expectativas Iniciais\n",
    "\n",
    "- Acredito que a sazonalidade pode ser um fator importante, visto que meses como dezembro costumam ser bem caros no RJ\n",
    "- A localização do imóvel deve fazer muita diferença no preço, já que no Rio de Janeiro a localização pode mudar completamente as características do lugar (segurança, beleza natural, pontos turísticos)\n",
    "- Adicionais/Comodidades podem ter um impacto significativo, visto que temos muitos prédios e casas antigos no Rio de Janeiro\n",
    "\n",
    "Vamos descobrir o quanto esses fatores impactam e se temos outros fatores não tão intuitivos que são extremamente importantes."
   ]
  },
  {
   "cell_type": "markdown",
   "metadata": {},
   "source": [
    "### Importar Bibliotecas e Bases de Dados\n",
    "\n",
    "- Se o bloco abaixo der erro no seu computador, pesquise pelo programa \"prompt Anaconda\" e execute os seguintes códigos de instalação:\n",
    "    - pip install seaborn\n",
    "    - pip install plotly"
   ]
  },
  {
   "cell_type": "code",
   "execution_count": 236,
   "metadata": {},
   "outputs": [],
   "source": [
    "import pandas as pd\n",
    "import pathlib\n",
    "import numpy as np\n",
    "import seaborn as sns\n",
    "import matplotlib.pyplot as plt\n",
    "import plotly.express as px\n",
    "\n",
    "from sklearn.metrics import r2_score, mean_squared_error\n",
    "from sklearn.linear_model import LinearRegression\n",
    "from sklearn.ensemble import RandomForestRegressor, ExtraTreesRegressor\n",
    "from sklearn.model_selection import train_test_split"
   ]
  },
  {
   "cell_type": "markdown",
   "metadata": {},
   "source": [
    "### Agora vamos importar as bases de dados\n",
    "\n",
    "Para isso, vamos criar um dicionário com os 3 primeiros caracteres com os nomes dos meses e o número correspondente daquele mês.\n",
    "\n",
    "Para cada arquivo da base de dados a gente vai importar o arquivo e criar uma coluna na base de dados com o mês e o ano de cada informação"
   ]
  },
  {
   "cell_type": "code",
   "execution_count": 191,
   "metadata": {},
   "outputs": [],
   "source": [
    "# meses = {'jan': 1, 'fev':2, 'mar':3, 'abr': 4, 'mai':5, 'jun': 6, 'jul': 7, 'ago': 8, 'set': 9, 'out': 10, 'nov': 11, 'dez': 12}\n",
    "\n",
    "# caminho_bases = pathlib.Path('dataset')\n",
    "\n",
    "# base_airbnb = pd.DataFrame()\n",
    "\n",
    "# for arquivo in caminho_bases.iterdir():\n",
    "#     nome_mes = arquivo.name[:3]\n",
    "#     mes = meses[nome_mes]\n",
    "    \n",
    "#     ano = arquivo.name[-8:]\n",
    "#     ano = int(ano.replace('.csv', ''))\n",
    "    \n",
    "#     df = pd.read_csv(caminho_bases / arquivo.name, low_memory=False)\n",
    "#     df['ano'] = ano\n",
    "#     df['mes'] = mes\n",
    "#     base_airbnb = base_airbnb.append(df)\n",
    "\n",
    "# # display(base_airbnb)\n",
    "# colunas = ['host_is_superhost','host_listings_count','latitude','longitude','property_type','room_type',\n",
    "#            'accommodates','bathrooms','bedrooms','beds','bed_type','amenities','price','guests_included','extra_people','minimum_nights',\n",
    "#            'maximum_nights','number_of_reviews','instant_bookable','is_business_travel_ready','cancellation_policy','ano','mes']\n",
    "\n",
    "base_airbnb = pd.read_parquet('Base_airbnb.parquet')"
   ]
  },
  {
   "cell_type": "markdown",
   "metadata": {},
   "source": [
    "### Agora vamos começar os tratamentos\n",
    "\n",
    "- Como temos muitas colunas, nosso modelo pode acabar ficando muito lento.\n",
    "- Além disso, uma análise rápida permite ver que várias colunas não são necessárias para o nosso modelo de previsão, por isso, vamos excluir algumas colunas da nossa base\n",
    "- Tipos de colunas que vamos excluir:\n",
    "    1. IDs, Links e informações não relevantes para o modelo\n",
    "    2. Colunas repetidas ou extremamente parecidas com outra (que dão a mesma informação para o modelo. Ex: Data x Ano/Mês\n",
    "    3. Colunas preenchidas com texto livre -> Não rodaremos nenhuma análise de palavras ou algo do tipo\n",
    "    4. Colunas em que todos ou quase todos os valores são iguais\n",
    "    \n",
    "- Para isso, vamos criar um arquivo em excel com os 1.000 primeiros registros e fazer uma análise qualitativa, olhando as colunas e identificando quais são desnecessárias"
   ]
  },
  {
   "cell_type": "markdown",
   "metadata": {},
   "source": [
    "### Depois da análise qualitativa das colunas, levando em conta os critérios explicados acima, ficamos com as seguintes colunas:\n"
   ]
  },
  {
   "cell_type": "markdown",
   "metadata": {},
   "source": [
    "### Tratar Valores Faltando\n",
    "\n",
    "- Visualizando os dados, percebemos que existe uma grande disparidade em dados faltantes. As colunas com mais de 300.000 valores NaN foram excluídas da análise\n",
    "- Para as outras colunas, como temos muitos dados (mais de 900.000 linhas) vamos excluir as linhas que contém dados NaN"
   ]
  },
  {
   "cell_type": "markdown",
   "metadata": {},
   "source": [
    "- Agora vamos excluir as linhas vazias"
   ]
  },
  {
   "cell_type": "code",
   "execution_count": 192,
   "metadata": {},
   "outputs": [],
   "source": [
    "base_airbnb = base_airbnb.dropna()\n",
    "\n",
    "# print(base_airbnb.shape)\n",
    "# print(base_airbnb.isnull().sum())"
   ]
  },
  {
   "cell_type": "markdown",
   "metadata": {},
   "source": [
    "### Verificar Tipos de Dados em cada coluna\n",
    "\n",
    "- Precisamos fazer isso porque às vezes o Python está lendo como texto alguma coluna que deveria ser um número, então precisamos corrigir"
   ]
  },
  {
   "cell_type": "code",
   "execution_count": 193,
   "metadata": {},
   "outputs": [],
   "source": [
    "# print(base_airbnb.dtypes)\n",
    "# print('-'*60)\n",
    "# print(base_airbnb.iloc[0])"
   ]
  },
  {
   "cell_type": "markdown",
   "metadata": {},
   "source": [
    "- Como preço e extra people estão sendo reconhecidos como objeto (ao invés de ser um float) temos que mudar o tipo de variável da coluna."
   ]
  },
  {
   "cell_type": "code",
   "execution_count": 194,
   "metadata": {},
   "outputs": [
    {
     "name": "stderr",
     "output_type": "stream",
     "text": [
      "C:\\Users\\ruana\\AppData\\Local\\Temp\\ipykernel_15600\\4022817052.py:2: FutureWarning:\n",
      "\n",
      "The default value of regex will change from True to False in a future version. In addition, single character regular expressions will *not* be treated as literal strings when regex=True.\n",
      "\n",
      "C:\\Users\\ruana\\AppData\\Local\\Temp\\ipykernel_15600\\4022817052.py:6: FutureWarning:\n",
      "\n",
      "The default value of regex will change from True to False in a future version. In addition, single character regular expressions will *not* be treated as literal strings when regex=True.\n",
      "\n"
     ]
    },
    {
     "name": "stdout",
     "output_type": "stream",
     "text": [
      "host_is_superhost            object\n",
      "host_listings_count         float64\n",
      "latitude                    float64\n",
      "longitude                   float64\n",
      "property_type                object\n",
      "room_type                    object\n",
      "accommodates                  int64\n",
      "bathrooms                   float64\n",
      "bedrooms                    float64\n",
      "beds                        float64\n",
      "bed_type                     object\n",
      "amenities                    object\n",
      "price                       float32\n",
      "guests_included               int64\n",
      "extra_people                float32\n",
      "minimum_nights                int64\n",
      "maximum_nights                int64\n",
      "number_of_reviews             int64\n",
      "instant_bookable             object\n",
      "is_business_travel_ready     object\n",
      "cancellation_policy          object\n",
      "ano                           int64\n",
      "mes                           int64\n",
      "dtype: object\n"
     ]
    }
   ],
   "source": [
    "#price\n",
    "base_airbnb['price'] = base_airbnb['price'].str.replace('$', '')\n",
    "base_airbnb['price'] = base_airbnb['price'].str.replace(',', '')\n",
    "base_airbnb['price'] = base_airbnb['price'].astype(np.float32, copy=False)\n",
    "#extra people\n",
    "base_airbnb['extra_people'] = base_airbnb['extra_people'].str.replace('$', '')\n",
    "base_airbnb['extra_people'] = base_airbnb['extra_people'].str.replace(',', '')\n",
    "base_airbnb['extra_people'] = base_airbnb['extra_people'].astype(np.float32, copy=False)\n",
    "#verificando os tipos\n",
    "print(base_airbnb.dtypes)"
   ]
  },
  {
   "cell_type": "markdown",
   "metadata": {},
   "source": [
    "### Análise Exploratória e Tratar Outliers\n",
    "\n",
    "- Vamos basicamente olhar feature por feature para:\n",
    "    1. Ver a correlação entre as features e decidir se manteremos todas as features que temos.\n",
    "    2. Excluir outliers (usaremos como regra, valores abaixo de Q1 - 1.5xAmplitude e valores acima de Q3 + 1.5x Amplitude). Amplitude = Q3 - Q1\n",
    "    3. Confirmar se todas as features que temos fazem realmente sentido para o nosso modelo ou se alguma delas não vai nos ajudar e se devemos excluir\n",
    "    \n",
    "- Vamos começar pelas colunas de preço (resultado final que queremos) e de extra_people (também valor monetário). Esses são os valores numéricos contínuos.\n",
    "\n",
    "- Depois vamos analisar as colunas de valores numéricos discretos (accomodates, bedrooms, guests_included, etc.)\n",
    "\n",
    "- Por fim, vamos avaliar as colunas de texto e definir quais categorias fazem sentido mantermos ou não.\n",
    "\n",
    "MAS CUIDADO: não saia excluindo direto outliers, pense exatamente no que você está fazendo. Se não tem um motivo claro para remover o outlier, talvez não seja necessário e pode ser prejudicial para a generalização. Então tem que ter uma balança ai. Claro que você sempre pode testar e ver qual dá o melhor resultado, mas fazer isso para todas as features vai dar muito trabalho.\n",
    "\n",
    "Ex de análise: Se o objetivo é ajudar a precificar um imóvel que você está querendo disponibilizar, excluir outliers em host_listings_count pode fazer sentido. Agora, se você é uma empresa com uma série de propriedades e quer comparar com outras empresas do tipo também e se posicionar dessa forma, talvez excluir quem tem acima de 6 propriedades tire isso do seu modelo. Pense sempre no seu objetivo"
   ]
  },
  {
   "cell_type": "code",
   "execution_count": 195,
   "metadata": {},
   "outputs": [
    {
     "data": {
      "text/plain": [
       "<Figure size 1500x1000 with 0 Axes>"
      ]
     },
     "execution_count": 195,
     "metadata": {},
     "output_type": "execute_result"
    },
    {
     "data": {
      "text/plain": [
       "<Figure size 1500x1000 with 0 Axes>"
      ]
     },
     "metadata": {},
     "output_type": "display_data"
    }
   ],
   "source": [
    "plt.figure(figsize=(15, 10))\n",
    "# sns.heatmap(base_airbnb.corr(), annot=True, cmap='Greens')\n",
    "# print(base_airbnb.corr())"
   ]
  },
  {
   "cell_type": "markdown",
   "metadata": {},
   "source": [
    "### Definição de Funções para Análise de Outliers\n",
    "\n",
    "Vamos definir algumas funções para ajudar na análise de outliers das colunas"
   ]
  },
  {
   "cell_type": "code",
   "execution_count": 196,
   "metadata": {},
   "outputs": [],
   "source": [
    "def limites(coluna):\n",
    "    q1 = coluna.quantile(0.25)\n",
    "    q3 = coluna.quantile(0.75)\n",
    "    amplitude = q3 - q1\n",
    "    return q1 - 1.5 * amplitude, q3 + 1.5 * amplitude\n",
    "\n",
    "def exluir_outliers(df, nome_coluna):\n",
    "    qtd_linhas = df.shape[0]\n",
    "    lim_inf, lim_sup = limites(df[nome_coluna])\n",
    "    df = df.loc[(df[nome_coluna] >= lim_inf) & (df[nome_coluna] <= lim_sup), :]\n",
    "\n",
    "    linhas_removidas = qtd_linhas - (df.shape[0])\n",
    "    return df, linhas_removidas"
   ]
  },
  {
   "cell_type": "code",
   "execution_count": 197,
   "metadata": {},
   "outputs": [],
   "source": [
    "import plotly.graph_objects as go\n",
    "import plotly.express as px\n",
    "import plotly.subplots as sp\n",
    "\n",
    "def diagrama_caixa(coluna):\n",
    "    # Calculando os quartis\n",
    "    Q1 = coluna.quantile(0.25)\n",
    "    Q3 = coluna.quantile(0.75)\n",
    "    IQR = Q3 - Q1\n",
    "    \n",
    "    # Limites para os dados sem outliers\n",
    "    limite_inferior = Q1 - 1.5 * IQR\n",
    "    limite_superior = Q3 + 1.5 * IQR\n",
    "\n",
    "    # Filtrando os dados sem outliers\n",
    "    dados_sem_outliers = coluna[(coluna >= limite_inferior) & (coluna <= limite_superior)]\n",
    "    # Criando subplots\n",
    "    fig = sp.make_subplots(rows=1, cols=2, subplot_titles=('Com Outliers', 'Sem Outliers'))\n",
    "    # Box plot com outliers\n",
    "    fig.add_trace(go.Box(x=coluna, boxmean='sd', name='Com Outliers'), row=1, col=1)\n",
    "    # Box plot sem outliers\n",
    "    fig.add_trace(go.Box(x=dados_sem_outliers, boxmean='sd', name='Sem Outliers'), row=1, col=2)\n",
    "    # Atualizando layout\n",
    "    fig.update_layout(title='Diagrama de Caixa', yaxis_title=coluna.name)\n",
    "    fig.show()\n",
    "    \n",
    "def histograma(coluna):\n",
    "    # Criando histograma\n",
    "    fig = go.Figure()\n",
    "    fig.add_trace(go.Histogram(x=coluna, histnorm='probability density'))\n",
    "    fig.update_layout(title='Histograma', xaxis_title=coluna.name, yaxis_title='Densidade de Probabilidade')\n",
    "    fig.show()\n",
    "\n",
    "def grafico_barra(coluna):\n",
    "        # Calculando os quartis\n",
    "    Q1 = coluna.quantile(0.25)\n",
    "    Q3 = coluna.quantile(0.75)\n",
    "    IQR = Q3 - Q1\n",
    "    \n",
    "    # Limites para os dados sem outliers\n",
    "    limite_superior = Q3 + 1.5 * IQR\n",
    "\n",
    "    # Filtrando os dados sem outliers\n",
    "    dados_sem_outliers = coluna[coluna <= limite_superior]\n",
    "\n",
    "    fig = px.bar(x = dados_sem_outliers.value_counts().index, y = dados_sem_outliers.value_counts())\n",
    "    fig.update_layout(title='Gráfico de Barra', xaxis_title=coluna.name, yaxis_title='Contagem')\n",
    "    fig.show()"
   ]
  },
  {
   "cell_type": "markdown",
   "metadata": {},
   "source": [
    "### Price"
   ]
  },
  {
   "cell_type": "code",
   "execution_count": 198,
   "metadata": {},
   "outputs": [],
   "source": [
    "# diagrama_caixa(base_airbnb['price'])\n",
    "# histograma(base_airbnb['price'])"
   ]
  },
  {
   "cell_type": "markdown",
   "metadata": {},
   "source": [
    "Como estamos construindo um modelo para imóveis comuns, acredito que os valorea acima do limite superior serão apenas de apartementos de altissimo luxo, e por isso podemos exluir esses outliers"
   ]
  },
  {
   "cell_type": "code",
   "execution_count": 199,
   "metadata": {},
   "outputs": [],
   "source": [
    "base_airbnb, qtd_linhas = exluir_outliers(base_airbnb, 'price')\n",
    "\n",
    "# print(f'{qtd_linhas} linhas removidas.')"
   ]
  },
  {
   "cell_type": "markdown",
   "metadata": {},
   "source": [
    "### Extra people"
   ]
  },
  {
   "cell_type": "code",
   "execution_count": 200,
   "metadata": {},
   "outputs": [],
   "source": [
    "# diagrama_caixa(base_airbnb['extra_people'])\n",
    "# histograma(base_airbnb['extra_people'])"
   ]
  },
  {
   "cell_type": "code",
   "execution_count": 201,
   "metadata": {},
   "outputs": [],
   "source": [
    "base_airbnb, qtd_linhas = exluir_outliers(base_airbnb, 'extra_people')\n",
    "\n",
    "# print(f'{qtd_linhas} linhas removidas.')"
   ]
  },
  {
   "cell_type": "markdown",
   "metadata": {},
   "source": [
    "### host_is_superhost"
   ]
  },
  {
   "cell_type": "code",
   "execution_count": 202,
   "metadata": {},
   "outputs": [],
   "source": [
    "# diagrama_caixa(base_airbnb['host_listings_count'])\n",
    "# grafico_barra(base_airbnb['host_listings_count'])"
   ]
  },
  {
   "cell_type": "code",
   "execution_count": 203,
   "metadata": {},
   "outputs": [],
   "source": [
    "base_airbnb, qtd_linhas = exluir_outliers(base_airbnb, 'host_listings_count')\n",
    "\n",
    "# print(f'{qtd_linhas} linhas removidas.')"
   ]
  },
  {
   "cell_type": "markdown",
   "metadata": {},
   "source": [
    "### accommodates"
   ]
  },
  {
   "cell_type": "code",
   "execution_count": 204,
   "metadata": {},
   "outputs": [],
   "source": [
    "# diagrama_caixa(base_airbnb['accommodates'])\n",
    "# grafico_barra(base_airbnb['accommodates'])"
   ]
  },
  {
   "cell_type": "code",
   "execution_count": 205,
   "metadata": {},
   "outputs": [],
   "source": [
    "base_airbnb, qtd_linhas = exluir_outliers(base_airbnb, 'accommodates')\n",
    "\n",
    "# print(f'{qtd_linhas} linhas removidas.')"
   ]
  },
  {
   "cell_type": "markdown",
   "metadata": {},
   "source": [
    "### bathrooms"
   ]
  },
  {
   "cell_type": "code",
   "execution_count": 206,
   "metadata": {},
   "outputs": [],
   "source": [
    "# diagrama_caixa(base_airbnb['bathrooms'])\n",
    "# grafico_barra(base_airbnb['bathrooms'])"
   ]
  },
  {
   "cell_type": "code",
   "execution_count": 207,
   "metadata": {},
   "outputs": [],
   "source": [
    "base_airbnb, qtd_linhas = exluir_outliers(base_airbnb, 'bathrooms')\n",
    "\n",
    "# print(f'{qtd_linhas} linhas removidas.')"
   ]
  },
  {
   "cell_type": "markdown",
   "metadata": {},
   "source": [
    "### bedrooms"
   ]
  },
  {
   "cell_type": "code",
   "execution_count": 208,
   "metadata": {},
   "outputs": [],
   "source": [
    "# diagrama_caixa(base_airbnb['bedrooms'])\n",
    "# grafico_barra(base_airbnb['bedrooms'])"
   ]
  },
  {
   "cell_type": "code",
   "execution_count": 209,
   "metadata": {},
   "outputs": [],
   "source": [
    "base_airbnb, qtd_linhas = exluir_outliers(base_airbnb, 'bedrooms')\n",
    "\n",
    "# print(f'{qtd_linhas} linhas removidas.')"
   ]
  },
  {
   "cell_type": "markdown",
   "metadata": {},
   "source": [
    "### beds"
   ]
  },
  {
   "cell_type": "code",
   "execution_count": 210,
   "metadata": {},
   "outputs": [],
   "source": [
    "# diagrama_caixa(base_airbnb['beds'])\n",
    "# grafico_barra(base_airbnb['beds'])"
   ]
  },
  {
   "cell_type": "code",
   "execution_count": 211,
   "metadata": {},
   "outputs": [],
   "source": [
    "base_airbnb, qtd_linhas = exluir_outliers(base_airbnb, 'beds')\n",
    "\n",
    "# print(f'{qtd_linhas} linhas removidas.')"
   ]
  },
  {
   "cell_type": "markdown",
   "metadata": {},
   "source": [
    "### guests_included"
   ]
  },
  {
   "cell_type": "code",
   "execution_count": 212,
   "metadata": {},
   "outputs": [],
   "source": [
    "# diagrama_caixa(base_airbnb['guests_included'])\n",
    "# grafico_barra(base_airbnb['guests_included'])"
   ]
  },
  {
   "cell_type": "code",
   "execution_count": 213,
   "metadata": {},
   "outputs": [],
   "source": [
    "del base_airbnb['guests_included']"
   ]
  },
  {
   "cell_type": "markdown",
   "metadata": {},
   "source": [
    "### minimum_nights"
   ]
  },
  {
   "cell_type": "code",
   "execution_count": 214,
   "metadata": {},
   "outputs": [],
   "source": [
    "# diagrama_caixa(base_airbnb['minimum_nights'])\n",
    "# grafico_barra(base_airbnb['minimum_nights'])"
   ]
  },
  {
   "cell_type": "code",
   "execution_count": 215,
   "metadata": {},
   "outputs": [],
   "source": [
    "base_airbnb, qtd_linhas = exluir_outliers(base_airbnb, 'minimum_nights')\n",
    "\n",
    "# print(f'{qtd_linhas} linhas removidas.')"
   ]
  },
  {
   "cell_type": "markdown",
   "metadata": {},
   "source": [
    "### maximum_nights"
   ]
  },
  {
   "cell_type": "code",
   "execution_count": 216,
   "metadata": {},
   "outputs": [],
   "source": [
    "# diagrama_caixa(base_airbnb['maximum_nights'])\n",
    "# grafico_barra(base_airbnb['maximum_nights'])"
   ]
  },
  {
   "cell_type": "code",
   "execution_count": 217,
   "metadata": {},
   "outputs": [],
   "source": [
    "del base_airbnb['maximum_nights']"
   ]
  },
  {
   "cell_type": "markdown",
   "metadata": {},
   "source": [
    "### number_of_reviews"
   ]
  },
  {
   "cell_type": "code",
   "execution_count": 218,
   "metadata": {},
   "outputs": [],
   "source": [
    "# diagrama_caixa(base_airbnb['number_of_reviews'])\n",
    "# grafico_barra(base_airbnb['number_of_reviews'])"
   ]
  },
  {
   "cell_type": "code",
   "execution_count": 219,
   "metadata": {},
   "outputs": [],
   "source": [
    "del base_airbnb['number_of_reviews']"
   ]
  },
  {
   "cell_type": "markdown",
   "metadata": {},
   "source": [
    "### Colunas de texto"
   ]
  },
  {
   "cell_type": "markdown",
   "metadata": {},
   "source": [
    "- property_type"
   ]
  },
  {
   "cell_type": "code",
   "execution_count": 220,
   "metadata": {},
   "outputs": [],
   "source": [
    "# print(base_airbnb['property_type'].value_counts())\n",
    "\n",
    "# plt.figure(figsize = (15,5))\n",
    "# grafico = sns.countplot(data = base_airbnb,x = 'property_type')\n",
    "# grafico.tick_params(axis=  'x', rotation = 90)"
   ]
  },
  {
   "cell_type": "code",
   "execution_count": 221,
   "metadata": {},
   "outputs": [],
   "source": [
    "tabela_tipo_casa = base_airbnb['property_type'].value_counts()\n",
    "colunas_agrupar = []\n",
    "\n",
    "for tipo in tabela_tipo_casa.index:\n",
    "    if tabela_tipo_casa[tipo] < 2_000:\n",
    "        colunas_agrupar.append(tipo)\n",
    "# print(colunas_agrupar)\n",
    "\n",
    "for tipo in colunas_agrupar:\n",
    "    base_airbnb.loc[base_airbnb['property_type'] == tipo, 'property_type'] = 'Outros'\n",
    "\n",
    "# base_airbnb['property_type'].value_counts()"
   ]
  },
  {
   "cell_type": "code",
   "execution_count": 222,
   "metadata": {},
   "outputs": [],
   "source": [
    "# plt.figure(figsize = (15,5))\n",
    "# grafico = sns.countplot(data = base_airbnb,x = 'property_type')\n",
    "# grafico.tick_params(axis=  'x', rotation = 90)"
   ]
  },
  {
   "cell_type": "code",
   "execution_count": 223,
   "metadata": {},
   "outputs": [],
   "source": [
    "# print(base_airbnb['cancellation_policy'].value_counts())\n",
    "\n",
    "# plt.figure(figsize = (15,5))\n",
    "# grafico = sns.countplot(data = base_airbnb,x = 'cancellation_policy')\n",
    "# grafico.tick_params(axis=  'x', rotation = 90)\n",
    "\n",
    "# tabela_tipo_casa = base_airbnb['cancellation_policy'].value_counts()\n",
    "colunas_agrupar = []\n",
    "\n",
    "for tipo in tabela_tipo_casa.index:\n",
    "    if tabela_tipo_casa[tipo] < 10_000:\n",
    "        colunas_agrupar.append(tipo)\n",
    "# print(colunas_agrupar)\n",
    "\n",
    "for tipo in colunas_agrupar:\n",
    "    base_airbnb.loc[base_airbnb['cancellation_policy'] == tipo, 'cancellation_policy'] = 'strict'\n",
    "\n",
    "# base_airbnb['cancellation_policy'].value_counts()"
   ]
  },
  {
   "cell_type": "code",
   "execution_count": 224,
   "metadata": {},
   "outputs": [],
   "source": [
    "# plt.figure(figsize = (15,5))\n",
    "# grafico = sns.countplot(data = base_airbnb,x = 'bed_type')\n",
    "# grafico.tick_params(axis=  'x', rotation = 90)\n",
    "\n",
    "# tabela_tipo_casa = base_airbnb['bed_type'].value_counts()\n",
    "# colunas_agrupar = []\n",
    "\n",
    "for tipo in tabela_tipo_casa.index:\n",
    "    if tabela_tipo_casa[tipo] < 10_000:\n",
    "        colunas_agrupar.append(tipo)\n",
    "# print(colunas_agrupar)\n",
    "\n",
    "for tipo in colunas_agrupar:\n",
    "    base_airbnb.loc[base_airbnb['bed_type'] == tipo, 'bed_type'] = 'Outros'\n",
    "\n",
    "# base_airbnb['bed_type'].value_counts()"
   ]
  },
  {
   "cell_type": "markdown",
   "metadata": {},
   "source": [
    "- amenities"
   ]
  },
  {
   "cell_type": "code",
   "execution_count": 225,
   "metadata": {},
   "outputs": [
    {
     "data": {
      "text/plain": [
       "25"
      ]
     },
     "execution_count": 225,
     "metadata": {},
     "output_type": "execute_result"
    }
   ],
   "source": [
    "len(base_airbnb['amenities'].iloc[0].split(','))"
   ]
  },
  {
   "cell_type": "code",
   "execution_count": 226,
   "metadata": {},
   "outputs": [],
   "source": [
    "base_airbnb['n_amenities'] = base_airbnb['amenities'].str.split(',').apply(len)"
   ]
  },
  {
   "cell_type": "code",
   "execution_count": 227,
   "metadata": {},
   "outputs": [],
   "source": [
    "del base_airbnb['amenities']"
   ]
  },
  {
   "cell_type": "code",
   "execution_count": 228,
   "metadata": {},
   "outputs": [],
   "source": [
    "# diagrama_caixa(base_airbnb['n_amenities'])\n",
    "# grafico_barra(base_airbnb['n_amenities'])"
   ]
  },
  {
   "cell_type": "code",
   "execution_count": 229,
   "metadata": {},
   "outputs": [],
   "source": [
    "base_airbnb, qtd_linhas = exluir_outliers(base_airbnb, 'n_amenities')"
   ]
  },
  {
   "cell_type": "markdown",
   "metadata": {},
   "source": [
    "### MAPAS"
   ]
  },
  {
   "cell_type": "code",
   "execution_count": 230,
   "metadata": {},
   "outputs": [],
   "source": [
    "amostra = base_airbnb.sample(n = 100000)\n",
    "\n",
    "centro_mapa = {'lat' : amostra.latitude.mean(), 'lon' : amostra.longitude.mean()}\n",
    "\n",
    "fig = px.density_mapbox(amostra, lat = 'latitude', lon = 'longitude',\n",
    "                                    z = 'price', radius = 2.5, center = centro_mapa, zoom = 10,\n",
    "                                    mapbox_style='white-bg')"
   ]
  },
  {
   "cell_type": "markdown",
   "metadata": {},
   "source": [
    "### Tratamento de Colunas de Valores de Texto"
   ]
  },
  {
   "cell_type": "markdown",
   "metadata": {},
   "source": [
    "### Encoding\n",
    "\n",
    "Precisamor Ajustar as features para facilitar o trabalho do modelo futuro (features de categoria, true e false, etc.)\n",
    "\n",
    "- Features de Valores True ou False, vamos substituir True por 1 e False por 0.\n",
    "- Features de Categoria (features em que os valores da coluna são textos) vamos utilizar o método de encoding de variáveis dummies"
   ]
  },
  {
   "cell_type": "code",
   "execution_count": 231,
   "metadata": {},
   "outputs": [],
   "source": [
    "colunas_tf = ['host_is_superhost', 'instant_bookable', 'is_business_travel_ready']\n",
    "base_airbnb_cod = base_airbnb.copy()\n",
    "\n",
    "for coluna in colunas_tf:\n",
    "    base_airbnb_cod.loc[base_airbnb_cod[coluna] == 't', coluna] = 1\n",
    "    base_airbnb_cod.loc[base_airbnb_cod[coluna] == 'f', coluna] = 0"
   ]
  },
  {
   "cell_type": "code",
   "execution_count": 232,
   "metadata": {},
   "outputs": [
    {
     "data": {
      "text/html": [
       "<div>\n",
       "<style scoped>\n",
       "    .dataframe tbody tr th:only-of-type {\n",
       "        vertical-align: middle;\n",
       "    }\n",
       "\n",
       "    .dataframe tbody tr th {\n",
       "        vertical-align: top;\n",
       "    }\n",
       "\n",
       "    .dataframe thead th {\n",
       "        text-align: right;\n",
       "    }\n",
       "</style>\n",
       "<table border=\"1\" class=\"dataframe\">\n",
       "  <thead>\n",
       "    <tr style=\"text-align: right;\">\n",
       "      <th></th>\n",
       "      <th>host_is_superhost</th>\n",
       "      <th>host_listings_count</th>\n",
       "      <th>latitude</th>\n",
       "      <th>longitude</th>\n",
       "      <th>accommodates</th>\n",
       "      <th>bathrooms</th>\n",
       "      <th>bedrooms</th>\n",
       "      <th>beds</th>\n",
       "      <th>price</th>\n",
       "      <th>extra_people</th>\n",
       "      <th>...</th>\n",
       "      <th>bed_type_Couch</th>\n",
       "      <th>bed_type_Futon</th>\n",
       "      <th>bed_type_Pull-out Sofa</th>\n",
       "      <th>bed_type_Real Bed</th>\n",
       "      <th>cancellation_policy_flexible</th>\n",
       "      <th>cancellation_policy_moderate</th>\n",
       "      <th>cancellation_policy_strict</th>\n",
       "      <th>cancellation_policy_strict_14_with_grace_period</th>\n",
       "      <th>cancellation_policy_super_strict_30</th>\n",
       "      <th>cancellation_policy_super_strict_60</th>\n",
       "    </tr>\n",
       "  </thead>\n",
       "  <tbody>\n",
       "    <tr>\n",
       "      <th>1</th>\n",
       "      <td>1</td>\n",
       "      <td>2.0</td>\n",
       "      <td>-22.965919</td>\n",
       "      <td>-43.178962</td>\n",
       "      <td>5</td>\n",
       "      <td>1.0</td>\n",
       "      <td>2.0</td>\n",
       "      <td>2.0</td>\n",
       "      <td>270.0</td>\n",
       "      <td>51.0</td>\n",
       "      <td>...</td>\n",
       "      <td>0</td>\n",
       "      <td>0</td>\n",
       "      <td>0</td>\n",
       "      <td>1</td>\n",
       "      <td>0</td>\n",
       "      <td>0</td>\n",
       "      <td>1</td>\n",
       "      <td>0</td>\n",
       "      <td>0</td>\n",
       "      <td>0</td>\n",
       "    </tr>\n",
       "    <tr>\n",
       "      <th>3</th>\n",
       "      <td>0</td>\n",
       "      <td>3.0</td>\n",
       "      <td>-22.977117</td>\n",
       "      <td>-43.190454</td>\n",
       "      <td>3</td>\n",
       "      <td>1.0</td>\n",
       "      <td>1.0</td>\n",
       "      <td>2.0</td>\n",
       "      <td>161.0</td>\n",
       "      <td>45.0</td>\n",
       "      <td>...</td>\n",
       "      <td>0</td>\n",
       "      <td>0</td>\n",
       "      <td>0</td>\n",
       "      <td>1</td>\n",
       "      <td>0</td>\n",
       "      <td>0</td>\n",
       "      <td>1</td>\n",
       "      <td>0</td>\n",
       "      <td>0</td>\n",
       "      <td>0</td>\n",
       "    </tr>\n",
       "    <tr>\n",
       "      <th>4</th>\n",
       "      <td>1</td>\n",
       "      <td>1.0</td>\n",
       "      <td>-22.983024</td>\n",
       "      <td>-43.214270</td>\n",
       "      <td>3</td>\n",
       "      <td>1.0</td>\n",
       "      <td>1.0</td>\n",
       "      <td>2.0</td>\n",
       "      <td>222.0</td>\n",
       "      <td>68.0</td>\n",
       "      <td>...</td>\n",
       "      <td>0</td>\n",
       "      <td>0</td>\n",
       "      <td>0</td>\n",
       "      <td>1</td>\n",
       "      <td>0</td>\n",
       "      <td>0</td>\n",
       "      <td>1</td>\n",
       "      <td>0</td>\n",
       "      <td>0</td>\n",
       "      <td>0</td>\n",
       "    </tr>\n",
       "    <tr>\n",
       "      <th>5</th>\n",
       "      <td>1</td>\n",
       "      <td>1.0</td>\n",
       "      <td>-22.988165</td>\n",
       "      <td>-43.193588</td>\n",
       "      <td>3</td>\n",
       "      <td>1.5</td>\n",
       "      <td>1.0</td>\n",
       "      <td>2.0</td>\n",
       "      <td>308.0</td>\n",
       "      <td>86.0</td>\n",
       "      <td>...</td>\n",
       "      <td>0</td>\n",
       "      <td>0</td>\n",
       "      <td>0</td>\n",
       "      <td>1</td>\n",
       "      <td>0</td>\n",
       "      <td>0</td>\n",
       "      <td>1</td>\n",
       "      <td>0</td>\n",
       "      <td>0</td>\n",
       "      <td>0</td>\n",
       "    </tr>\n",
       "    <tr>\n",
       "      <th>6</th>\n",
       "      <td>1</td>\n",
       "      <td>1.0</td>\n",
       "      <td>-22.981269</td>\n",
       "      <td>-43.190457</td>\n",
       "      <td>2</td>\n",
       "      <td>1.0</td>\n",
       "      <td>1.0</td>\n",
       "      <td>2.0</td>\n",
       "      <td>219.0</td>\n",
       "      <td>80.0</td>\n",
       "      <td>...</td>\n",
       "      <td>0</td>\n",
       "      <td>0</td>\n",
       "      <td>0</td>\n",
       "      <td>1</td>\n",
       "      <td>0</td>\n",
       "      <td>0</td>\n",
       "      <td>1</td>\n",
       "      <td>0</td>\n",
       "      <td>0</td>\n",
       "      <td>0</td>\n",
       "    </tr>\n",
       "  </tbody>\n",
       "</table>\n",
       "<p>5 rows × 41 columns</p>\n",
       "</div>"
      ],
      "text/plain": [
       "  host_is_superhost  host_listings_count   latitude  longitude  accommodates  \\\n",
       "1                 1                  2.0 -22.965919 -43.178962             5   \n",
       "3                 0                  3.0 -22.977117 -43.190454             3   \n",
       "4                 1                  1.0 -22.983024 -43.214270             3   \n",
       "5                 1                  1.0 -22.988165 -43.193588             3   \n",
       "6                 1                  1.0 -22.981269 -43.190457             2   \n",
       "\n",
       "   bathrooms  bedrooms  beds  price  extra_people  ...  bed_type_Couch  \\\n",
       "1        1.0       2.0   2.0  270.0          51.0  ...               0   \n",
       "3        1.0       1.0   2.0  161.0          45.0  ...               0   \n",
       "4        1.0       1.0   2.0  222.0          68.0  ...               0   \n",
       "5        1.5       1.0   2.0  308.0          86.0  ...               0   \n",
       "6        1.0       1.0   2.0  219.0          80.0  ...               0   \n",
       "\n",
       "  bed_type_Futon bed_type_Pull-out Sofa  bed_type_Real Bed  \\\n",
       "1              0                      0                  1   \n",
       "3              0                      0                  1   \n",
       "4              0                      0                  1   \n",
       "5              0                      0                  1   \n",
       "6              0                      0                  1   \n",
       "\n",
       "   cancellation_policy_flexible  cancellation_policy_moderate  \\\n",
       "1                             0                             0   \n",
       "3                             0                             0   \n",
       "4                             0                             0   \n",
       "5                             0                             0   \n",
       "6                             0                             0   \n",
       "\n",
       "   cancellation_policy_strict  \\\n",
       "1                           1   \n",
       "3                           1   \n",
       "4                           1   \n",
       "5                           1   \n",
       "6                           1   \n",
       "\n",
       "   cancellation_policy_strict_14_with_grace_period  \\\n",
       "1                                                0   \n",
       "3                                                0   \n",
       "4                                                0   \n",
       "5                                                0   \n",
       "6                                                0   \n",
       "\n",
       "   cancellation_policy_super_strict_30  cancellation_policy_super_strict_60  \n",
       "1                                    0                                    0  \n",
       "3                                    0                                    0  \n",
       "4                                    0                                    0  \n",
       "5                                    0                                    0  \n",
       "6                                    0                                    0  \n",
       "\n",
       "[5 rows x 41 columns]"
      ]
     },
     "execution_count": 232,
     "metadata": {},
     "output_type": "execute_result"
    }
   ],
   "source": [
    "colunas_categorias = ['property_type', 'room_type', 'bed_type', 'cancellation_policy']\n",
    "\n",
    "base_airbnb_cod = pd.get_dummies(data = base_airbnb_cod, columns = colunas_categorias)\n",
    "\n",
    "base_airbnb_cod.head()"
   ]
  },
  {
   "cell_type": "markdown",
   "metadata": {},
   "source": [
    "### Modelo de Previsão"
   ]
  },
  {
   "cell_type": "code",
   "execution_count": 233,
   "metadata": {},
   "outputs": [],
   "source": [
    "def avalisar_modelo(nome_modelo, y_teste, previsao):\n",
    "    r2 = r2_score(y_teste, previsao)\n",
    "    RSME = np.sqrt(mean_squared_error(y_teste, previsao))\n",
    "    return f'Modelo {nome_modelo}: \\nR²: {r2}\\nRSME: {RSME}'"
   ]
  },
  {
   "cell_type": "markdown",
   "metadata": {},
   "source": [
    "- Escolha dos modelos a serem testados\n",
    "    - Random Forest\n",
    "    - Linear Regression\n",
    "    - Extra Tree"
   ]
  },
  {
   "cell_type": "code",
   "execution_count": 238,
   "metadata": {},
   "outputs": [],
   "source": [
    "modelo_rf = RandomForestRegressor()\n",
    "modelo_lr = LinearRegression()\n",
    "modelo_et = ExtraTreesRegressor()\n",
    "\n",
    "modelos = {'RandomForest' : modelo_rf,\n",
    "           'LinearRegression' : modelo_lr,\n",
    "           'ExtraTrees' : modelo_et}\n",
    "\n",
    "y = base_airbnb_cod['price']\n",
    "X = base_airbnb_cod.drop('price', axis = 1)"
   ]
  },
  {
   "cell_type": "markdown",
   "metadata": {},
   "source": [
    "- Separar os dados em treino em teste e treinar o modelo"
   ]
  },
  {
   "cell_type": "code",
   "execution_count": 242,
   "metadata": {},
   "outputs": [
    {
     "name": "stdout",
     "output_type": "stream",
     "text": [
      "Modelo RandomForest: \n",
      "R²: 0.9724982034893339\n",
      "RSME: 43.97589582026836\n",
      "Modelo LinearRegression: \n",
      "R²: 0.32729203035172816\n",
      "RSME: 217.49408452019563\n",
      "Modelo ExtraTrees: \n",
      "R²: 0.975137168621276\n",
      "RSME: 41.812819650568905\n"
     ]
    }
   ],
   "source": [
    "X_train, X_test, y_train, y_test = train_test_split(X, y, random_state = 10)\n",
    "\n",
    "for nome_modelo, modelo in modelos.items():\n",
    "    #Treinar \n",
    "    modelo.fit(X_train, y_train)\n",
    "    #Testas\n",
    "    previsao = modelo.predict(X_test)\n",
    "    print(avalisar_modelo(nome_modelo, y_test, previsao))\n"
   ]
  },
  {
   "cell_type": "markdown",
   "metadata": {},
   "source": [
    "### Análise do Melhor Modelo"
   ]
  },
  {
   "cell_type": "markdown",
   "metadata": {},
   "source": [
    "1. Modelo RandomForest: \n",
    "    - R²: 0.9724982034893339\n",
    "    - RSME: 43.97589582026836\n",
    "2. Modelo LinearRegression: \n",
    "    - R²: 0.32729203035172816\n",
    "    - RSME: 217.49408452019563\n",
    "3. **Modelo ExtraTrees:**\n",
    "    - **R²: 0.975137168621276**\n",
    "    - **RSME: 41.812819650568905**\n",
    "    1. Sem a coluna 'is_business_travel_ready'\n",
    "        - **Modelo ExtraTrees:**\n",
    "        -    **R²: 0.9750987529759223**\n",
    "        -    **RSME: 41.84510974744912**"
   ]
  },
  {
   "cell_type": "markdown",
   "metadata": {},
   "source": [
    "### Ajustes e Melhorias no Melhor Modelo"
   ]
  },
  {
   "cell_type": "code",
   "execution_count": 246,
   "metadata": {},
   "outputs": [],
   "source": [
    "# print(modelo_et.feature_importances_)\n",
    "# print(X_train.columns)\n",
    "\n",
    "importancia = pd.DataFrame(data = modelo_et.feature_importances_, index=X_train.columns)"
   ]
  },
  {
   "cell_type": "code",
   "execution_count": 266,
   "metadata": {},
   "outputs": [
    {
     "data": {
      "image/png": "[encoded data removed]",
      "text/plain": [
       "<Figure size 1500x300 with 1 Axes>"
      ]
     },
     "metadata": {},
     "output_type": "display_data"
    }
   ],
   "source": [
    "importancia = importancia.sort_values(by = 0, ascending=False)\n",
    "\n",
    "plt.figure(figsize = (15,3))\n",
    "ax = sns.barplot(x = importancia.index, y = importancia[0])\n",
    "ax.tick_params(axis = 'x', rotation = 90)"
   ]
  },
  {
   "cell_type": "markdown",
   "metadata": {},
   "source": [
    "### Ajustes Finais no Modelo\n",
    "\n",
    "- is_business_travel ready não parece ter muito impacto no nosso modelo. Por isso, para chegar em um modelo mais simples, vamos excluir essa feature e testar o modelo sem ela."
   ]
  },
  {
   "cell_type": "code",
   "execution_count": 275,
   "metadata": {},
   "outputs": [
    {
     "name": "stdout",
     "output_type": "stream",
     "text": [
      "Modelo ExtraTrees: \n",
      "R²: 0.9750987529759223\n",
      "RSME: 41.84510974744912\n"
     ]
    }
   ],
   "source": [
    "modelo_et = ExtraTreesRegressor()\n",
    "\n",
    "# del base_airbnb_cod['is_business_travel_ready']\n",
    "\n",
    "y = base_airbnb_cod['price']\n",
    "X = base_airbnb_cod.drop('price', axis = 1)\n",
    "\n",
    "X_train, X_test, y_train, y_test = train_test_split(X, y, random_state = 10)\n",
    "\n",
    "#Treinar \n",
    "modelo_et.fit(X_train, y_train)\n",
    "#Testas\n",
    "previsao = modelo_et.predict(X_test)\n",
    "print(avalisar_modelo(nome_modelo, y_test, previsao))"
   ]
  },
  {
   "cell_type": "code",
   "execution_count": 280,
   "metadata": {},
   "outputs": [
    {
     "data": {
      "text/plain": [
       "Index(['bedrooms', 'latitude', 'longitude', 'n_amenities', 'extra_people',\n",
       "       'accommodates', 'room_type_Entire home/apt', 'bathrooms',\n",
       "       'minimum_nights', 'beds', 'host_listings_count', 'instant_bookable',\n",
       "       'cancellation_policy_flexible', 'host_is_superhost',\n",
       "       'property_type_Apartment', 'cancellation_policy_moderate', 'ano',\n",
       "       'cancellation_policy_strict_14_with_grace_period',\n",
       "       'property_type_House', 'property_type_Condominium', 'mes',\n",
       "       'room_type_Private room', 'bed_type_Pull-out Sofa',\n",
       "       'property_type_Outros', 'bed_type_Real Bed',\n",
       "       'property_type_Serviced apartment', 'property_type_Loft',\n",
       "       'room_type_Shared room', 'property_type_Bed and breakfast',\n",
       "       'property_type_Guesthouse', 'cancellation_policy_strict',\n",
       "       'bed_type_Futon', 'property_type_Guest suite', 'property_type_Hostel',\n",
       "       'bed_type_Couch', 'bed_type_Airbed', 'room_type_Hotel room',\n",
       "       'cancellation_policy_super_strict_60',\n",
       "       'cancellation_policy_super_strict_30', 'is_business_travel_ready'],\n",
       "      dtype='object')"
      ]
     },
     "execution_count": 280,
     "metadata": {},
     "output_type": "execute_result"
    }
   ],
   "source": [
    "importancia.index"
   ]
  },
  {
   "cell_type": "code",
   "execution_count": 283,
   "metadata": {},
   "outputs": [
    {
     "data": {
      "text/plain": [
       "Index(['host_is_superhost', 'host_listings_count', 'latitude', 'longitude',\n",
       "       'accommodates', 'bathrooms', 'bedrooms', 'beds', 'price',\n",
       "       'extra_people', 'minimum_nights', 'instant_bookable', 'ano', 'mes',\n",
       "       'n_amenities', 'property_type_Apartment',\n",
       "       'property_type_Bed and breakfast', 'property_type_Condominium',\n",
       "       'property_type_Guest suite', 'property_type_Guesthouse',\n",
       "       'property_type_Hostel', 'property_type_House', 'property_type_Loft',\n",
       "       'property_type_Outros', 'property_type_Serviced apartment',\n",
       "       'room_type_Entire home/apt', 'room_type_Hotel room',\n",
       "       'room_type_Private room', 'room_type_Shared room',\n",
       "       'cancellation_policy_flexible', 'cancellation_policy_moderate',\n",
       "       'cancellation_policy_strict',\n",
       "       'cancellation_policy_strict_14_with_grace_period',\n",
       "       'cancellation_policy_super_strict_30',\n",
       "       'cancellation_policy_super_strict_60'],\n",
       "      dtype='object')"
      ]
     },
     "execution_count": 283,
     "metadata": {},
     "output_type": "execute_result"
    }
   ],
   "source": [
    "base_teste = base_airbnb_cod.copy()\n",
    "\n",
    "for coluna in base_teste:\n",
    "    if 'bed_type' in coluna:\n",
    "        base_teste = base_teste.drop(coluna, axis = 1)\n",
    "base_teste.columns\n"
   ]
  },
  {
   "cell_type": "code",
   "execution_count": 284,
   "metadata": {},
   "outputs": [
    {
     "name": "stdout",
     "output_type": "stream",
     "text": [
      "Modelo ExtraTrees: \n",
      "R²: 0.9749577778046572\n",
      "RSME: 41.96339289570144\n"
     ]
    }
   ],
   "source": [
    "\n",
    "y = base_teste['price']\n",
    "X = base_teste.drop('price', axis = 1)\n",
    "\n",
    "X_train, X_test, y_train, y_test = train_test_split(X, y, random_state = 10)\n",
    "\n",
    "#Treinar \n",
    "modelo_et.fit(X_train, y_train)\n",
    "#Testas\n",
    "previsao = modelo_et.predict(X_test)\n",
    "print(avalisar_modelo(nome_modelo, y_test, previsao))"
   ]
  },
  {
   "cell_type": "markdown",
   "metadata": {},
   "source": [
    "# Deploy do Projeto\n",
    "\n",
    "- Passo 1 -> Criar arquivo do Modelo (joblib)<br>\n",
    "- Passo 2 -> Escolher a forma de deploy:\n",
    "    - Arquivo Executável + Tkinter\n",
    "    - Deploy em Microsite (Flask)\n",
    "    - Deploy apenas para uso direto Streamlit\n",
    "- Passo 3 -> Outro arquivo Python (pode ser Jupyter ou PyCharm)\n",
    "- Passo 4 -> Importar streamlit e criar código\n",
    "- Passo 5 -> Atribuir ao botão o carregamento do modelo\n",
    "- Passo 6 -> Deploy feito"
   ]
  },
  {
   "cell_type": "code",
   "execution_count": 287,
   "metadata": {},
   "outputs": [],
   "source": [
    "X['Price'] = y\n",
    "X.to_csv('dados_final.csv')"
   ]
  },
  {
   "cell_type": "markdown",
   "metadata": {},
   "source": [
    "O modelo de ML fica armazenado como um arquivo (.joblib), que pode ser utilizado em outros códigos e projetos futuros"
   ]
  },
  {
   "cell_type": "code",
   "execution_count": 289,
   "metadata": {},
   "outputs": [
    {
     "data": {
      "text/plain": [
       "['modelo.joblib']"
      ]
     },
     "execution_count": 289,
     "metadata": {},
     "output_type": "execute_result"
    }
   ],
   "source": [
    "import joblib\n",
    "joblib.dump(modelo_et, 'modelo.joblib')"
   ]
  }
 ],
 "metadata": {
  "kernelspec": {
   "display_name": "Python 3",
   "language": "python",
   "name": "python3"
  },
  "language_info": {
   "codemirror_mode": {
    "name": "ipython",
    "version": 3
   },
   "file_extension": ".py",
   "mimetype": "text/x-python",
   "name": "python",
   "nbconvert_exporter": "python",
   "pygments_lexer": "ipython3",
   "version": "3.10.11"
  }
 },
 "nbformat": 4,
 "nbformat_minor": 4
}
